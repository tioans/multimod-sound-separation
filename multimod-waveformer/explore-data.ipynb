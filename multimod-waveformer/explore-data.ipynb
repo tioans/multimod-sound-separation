{
 "cells": [
  {
   "cell_type": "code",
   "execution_count": 141,
   "id": "d4da5bff-15c1-4553-a69b-a910c04c5a38",
   "metadata": {},
   "outputs": [],
   "source": [
    "import numpy as np\n",
    "import pandas as pd\n",
    "\n",
    "from sklearn.model_selection import train_test_split"
   ]
  },
  {
   "cell_type": "code",
   "execution_count": 142,
   "id": "0958a9df-59d1-4c32-99c5-a53de5e096be",
   "metadata": {},
   "outputs": [
    {
     "name": "stdout",
     "output_type": "stream",
     "text": [
      "Root Dir:  /scratch/IOSZ/waveformer/multimod-sound-separation/multimod-waveformer\n"
     ]
    }
   ],
   "source": [
    "ROOT_DIR = os.getcwd()\n",
    "print(\"Root Dir: \", ROOT_DIR)"
   ]
  },
  {
   "cell_type": "markdown",
   "id": "ec392e6a-2a93-43cd-b788-dc5df902d9a6",
   "metadata": {},
   "source": [
    "## Mozilla CV data"
   ]
  },
  {
   "cell_type": "code",
   "execution_count": 143,
   "id": "3f551a2c-6744-40a6-b203-3615b7cf9f0d",
   "metadata": {},
   "outputs": [],
   "source": [
    "folder_path = os.path.join(\"data\", \"mozilla-cv\", \"cv-13-delta\", \"cv-corpus-13.0-delta-2023-03-09\", \"en\")\n",
    "tsv_file = \"validated.tsv\""
   ]
  },
  {
   "cell_type": "code",
   "execution_count": 144,
   "id": "531e76d1-c7a0-40d0-ad15-2947dccf793a",
   "metadata": {},
   "outputs": [],
   "source": [
    "# read tsv file\n",
    "df_tsv = pd.read_csv(os.path.join(folder_path, tsv_file), sep='\\t')"
   ]
  },
  {
   "cell_type": "code",
   "execution_count": 145,
   "id": "d317c02d-bb61-481c-aa31-b25ae39b2847",
   "metadata": {},
   "outputs": [
    {
     "name": "stdout",
     "output_type": "stream",
     "text": [
      "(6983, 11)\n",
      "Index(['client_id', 'path', 'sentence', 'up_votes', 'down_votes', 'age',\n",
      "       'gender', 'accents', 'variant', 'locale', 'segment'],\n",
      "      dtype='object')\n"
     ]
    }
   ],
   "source": [
    "# dataframe details\n",
    "print(df_tsv.shape)\n",
    "print(df_tsv.columns)"
   ]
  },
  {
   "cell_type": "code",
   "execution_count": 146,
   "id": "4f108dfa-d9db-4962-8833-b70d56ba2ee8",
   "metadata": {},
   "outputs": [
    {
     "data": {
      "text/plain": [
       "gender\n",
       "male      4336\n",
       "female    1514\n",
       "other       97\n",
       "Name: count, dtype: int64"
      ]
     },
     "execution_count": 146,
     "metadata": {},
     "output_type": "execute_result"
    }
   ],
   "source": [
    "df_tsv[\"gender\"].value_counts()"
   ]
  },
  {
   "cell_type": "markdown",
   "id": "fcd592a7-43d7-4e77-a2ac-b28c28de50c5",
   "metadata": {},
   "source": [
    "### Data cleaning"
   ]
  },
  {
   "cell_type": "code",
   "execution_count": 147,
   "id": "d8919319-ab06-45e5-ba6c-0fc875b66e52",
   "metadata": {},
   "outputs": [],
   "source": [
    "# get only samples with \n",
    "df_tsv = df_tsv[~df_tsv[\"gender\"].isna()]"
   ]
  },
  {
   "cell_type": "code",
   "execution_count": 148,
   "id": "0093e817-7210-4e5a-88cb-76a49028c890",
   "metadata": {},
   "outputs": [
    {
     "data": {
      "text/plain": [
       "down_votes\n",
       "0    5892\n",
       "2      39\n",
       "1      10\n",
       "3       4\n",
       "4       1\n",
       "5       1\n",
       "Name: count, dtype: int64"
      ]
     },
     "execution_count": 148,
     "metadata": {},
     "output_type": "execute_result"
    }
   ],
   "source": [
    "df_tsv[\"down_votes\"].value_counts()"
   ]
  },
  {
   "cell_type": "code",
   "execution_count": 149,
   "id": "c02cf707-0bc8-4c0a-8d14-26d91f268f02",
   "metadata": {},
   "outputs": [],
   "source": [
    "df_tsv = df_tsv[df_tsv[\"down_votes\"] == 0]  # keep only samples without downvotes"
   ]
  },
  {
   "cell_type": "code",
   "execution_count": 150,
   "id": "a6396469-eda7-43aa-a535-25dc5c160ca0",
   "metadata": {},
   "outputs": [
    {
     "data": {
      "text/plain": [
       "down_votes\n",
       "0    5892\n",
       "Name: count, dtype: int64"
      ]
     },
     "execution_count": 150,
     "metadata": {},
     "output_type": "execute_result"
    }
   ],
   "source": [
    "df_tsv[\"down_votes\"].value_counts()"
   ]
  },
  {
   "cell_type": "code",
   "execution_count": 151,
   "id": "2be0cec3-c1ff-465e-ae67-3858c4a79f08",
   "metadata": {},
   "outputs": [],
   "source": [
    "df_tsv = df_tsv[df_tsv[\"gender\"].isin([\"male\", \"female\"])]  # keep only male and female labels"
   ]
  },
  {
   "cell_type": "code",
   "execution_count": 152,
   "id": "b5a4aff9-c0a5-45e9-9449-4580bae9dc9d",
   "metadata": {},
   "outputs": [
    {
     "data": {
      "text/plain": [
       "gender\n",
       "male      4291\n",
       "female    1506\n",
       "Name: count, dtype: int64"
      ]
     },
     "execution_count": 152,
     "metadata": {},
     "output_type": "execute_result"
    }
   ],
   "source": [
    "df_tsv[\"gender\"].value_counts()  "
   ]
  },
  {
   "cell_type": "code",
   "execution_count": 153,
   "id": "00bfc320-91f0-4859-9cbe-dff156df9207",
   "metadata": {},
   "outputs": [],
   "source": [
    "df_tsv.reset_index(drop=True, inplace=True)"
   ]
  },
  {
   "cell_type": "markdown",
   "id": "3ea52e47-85d9-4966-bd37-1330d950947f",
   "metadata": {},
   "source": [
    "### Replace .mp3 with .wav"
   ]
  },
  {
   "cell_type": "code",
   "execution_count": 154,
   "id": "66452363-9932-42e3-b542-f45fed7041d9",
   "metadata": {},
   "outputs": [],
   "source": [
    "df_tsv[\"path\"] = df_tsv[\"path\"].apply(lambda row: row[:-3] + \"wav\")"
   ]
  },
  {
   "cell_type": "code",
   "execution_count": 155,
   "id": "c1af9316-0ffc-4b9d-a4bc-b154e124b04e",
   "metadata": {},
   "outputs": [
    {
     "data": {
      "text/html": [
       "<div>\n",
       "<style scoped>\n",
       "    .dataframe tbody tr th:only-of-type {\n",
       "        vertical-align: middle;\n",
       "    }\n",
       "\n",
       "    .dataframe tbody tr th {\n",
       "        vertical-align: top;\n",
       "    }\n",
       "\n",
       "    .dataframe thead th {\n",
       "        text-align: right;\n",
       "    }\n",
       "</style>\n",
       "<table border=\"1\" class=\"dataframe\">\n",
       "  <thead>\n",
       "    <tr style=\"text-align: right;\">\n",
       "      <th></th>\n",
       "      <th>client_id</th>\n",
       "      <th>path</th>\n",
       "      <th>sentence</th>\n",
       "      <th>up_votes</th>\n",
       "      <th>down_votes</th>\n",
       "      <th>age</th>\n",
       "      <th>gender</th>\n",
       "      <th>accents</th>\n",
       "      <th>variant</th>\n",
       "      <th>locale</th>\n",
       "      <th>segment</th>\n",
       "    </tr>\n",
       "  </thead>\n",
       "  <tbody>\n",
       "    <tr>\n",
       "      <th>0</th>\n",
       "      <td>1a2cacd4c67ba9001d44e3cf0ec327ab480e79b7ff0fd3...</td>\n",
       "      <td>common_voice_en_36951323.wav</td>\n",
       "      <td>Restricted breathing, joint stiffness, and hea...</td>\n",
       "      <td>4</td>\n",
       "      <td>0</td>\n",
       "      <td>twenties</td>\n",
       "      <td>male</td>\n",
       "      <td>United States English</td>\n",
       "      <td>NaN</td>\n",
       "      <td>en</td>\n",
       "      <td>NaN</td>\n",
       "    </tr>\n",
       "    <tr>\n",
       "      <th>1</th>\n",
       "      <td>1ee465e99f453ac7b20193d2cb28986bf0d553b2ca6789...</td>\n",
       "      <td>common_voice_en_37251984.wav</td>\n",
       "      <td>The German population was either evacuated or ...</td>\n",
       "      <td>2</td>\n",
       "      <td>0</td>\n",
       "      <td>fourties</td>\n",
       "      <td>female</td>\n",
       "      <td>United States English</td>\n",
       "      <td>NaN</td>\n",
       "      <td>en</td>\n",
       "      <td>NaN</td>\n",
       "    </tr>\n",
       "    <tr>\n",
       "      <th>2</th>\n",
       "      <td>2432927a3acd24b583f0f759819eb4e1b7150bf681b938...</td>\n",
       "      <td>common_voice_en_37028857.wav</td>\n",
       "      <td>The Church said Sony did not obtain permission...</td>\n",
       "      <td>2</td>\n",
       "      <td>0</td>\n",
       "      <td>sixties</td>\n",
       "      <td>female</td>\n",
       "      <td>United States English</td>\n",
       "      <td>NaN</td>\n",
       "      <td>en</td>\n",
       "      <td>NaN</td>\n",
       "    </tr>\n",
       "  </tbody>\n",
       "</table>\n",
       "</div>"
      ],
      "text/plain": [
       "                                           client_id   \n",
       "0  1a2cacd4c67ba9001d44e3cf0ec327ab480e79b7ff0fd3...  \\\n",
       "1  1ee465e99f453ac7b20193d2cb28986bf0d553b2ca6789...   \n",
       "2  2432927a3acd24b583f0f759819eb4e1b7150bf681b938...   \n",
       "\n",
       "                           path   \n",
       "0  common_voice_en_36951323.wav  \\\n",
       "1  common_voice_en_37251984.wav   \n",
       "2  common_voice_en_37028857.wav   \n",
       "\n",
       "                                            sentence  up_votes  down_votes   \n",
       "0  Restricted breathing, joint stiffness, and hea...         4           0  \\\n",
       "1  The German population was either evacuated or ...         2           0   \n",
       "2  The Church said Sony did not obtain permission...         2           0   \n",
       "\n",
       "        age  gender                accents  variant locale  segment  \n",
       "0  twenties    male  United States English      NaN     en      NaN  \n",
       "1  fourties  female  United States English      NaN     en      NaN  \n",
       "2   sixties  female  United States English      NaN     en      NaN  "
      ]
     },
     "execution_count": 155,
     "metadata": {},
     "output_type": "execute_result"
    }
   ],
   "source": [
    "df_tsv.head(3)"
   ]
  },
  {
   "cell_type": "markdown",
   "id": "0ee15447-fdb2-4021-aca1-073e5766119c",
   "metadata": {},
   "source": [
    "### Split data into train, val and test"
   ]
  },
  {
   "cell_type": "code",
   "execution_count": 156,
   "id": "fadc5419-98f4-4f7c-8103-f3d38d89fcff",
   "metadata": {},
   "outputs": [],
   "source": [
    "csv_output_folder = os.path.join(\"data\", \"CVSoundScapes\", \"CV-13-mini\")"
   ]
  },
  {
   "cell_type": "code",
   "execution_count": 157,
   "id": "181a823f-4edd-46c7-a306-3bd65cab60eb",
   "metadata": {},
   "outputs": [],
   "source": [
    "# create the train/test split\n",
    "df_train, df_test = train_test_split(df_tsv, test_size=0.15, random_state=42)\n",
    "\n",
    "# get the val split\n",
    "df_train, df_val = train_test_split(df_train, test_size=0.05, random_state=42)\n",
    "\n",
    "# reordering the columns\n",
    "df_train = df_train[['gender', 'path']].reset_index(drop=True, inplace=False)\n",
    "df_train.columns = ['label', 'fname']\n",
    "\n",
    "df_val = df_val[['gender', 'path']].reset_index(drop=True, inplace=False)\n",
    "df_val.columns = ['label', 'fname']\n",
    "\n",
    "df_test = df_test[['gender', 'path']].reset_index(drop=True, inplace=False)\n",
    "df_test.columns = ['label', 'fname']\n",
    "\n",
    "# save each dataframe to a csv\n",
    "df_train.to_csv(os.path.join(csv_output_folder, 'train.csv'), index=True)  # index to match original data\n",
    "df_val.to_csv(os.path.join(csv_output_folder, 'val.csv'), index=True)\n",
    "df_test.to_csv(os.path.join(csv_output_folder, 'test.csv'), index=True)"
   ]
  },
  {
   "cell_type": "code",
   "execution_count": 158,
   "id": "ffa81f7c-2697-4974-9b4c-8bb882b120d4",
   "metadata": {},
   "outputs": [
    {
     "data": {
      "text/html": [
       "<div>\n",
       "<style scoped>\n",
       "    .dataframe tbody tr th:only-of-type {\n",
       "        vertical-align: middle;\n",
       "    }\n",
       "\n",
       "    .dataframe tbody tr th {\n",
       "        vertical-align: top;\n",
       "    }\n",
       "\n",
       "    .dataframe thead th {\n",
       "        text-align: right;\n",
       "    }\n",
       "</style>\n",
       "<table border=\"1\" class=\"dataframe\">\n",
       "  <thead>\n",
       "    <tr style=\"text-align: right;\">\n",
       "      <th></th>\n",
       "      <th>Unnamed: 0</th>\n",
       "      <th>label</th>\n",
       "      <th>fname</th>\n",
       "    </tr>\n",
       "  </thead>\n",
       "  <tbody>\n",
       "    <tr>\n",
       "      <th>0</th>\n",
       "      <td>0</td>\n",
       "      <td>male</td>\n",
       "      <td>common_voice_en_37256628.wav</td>\n",
       "    </tr>\n",
       "    <tr>\n",
       "      <th>1</th>\n",
       "      <td>1</td>\n",
       "      <td>male</td>\n",
       "      <td>common_voice_en_36837088.wav</td>\n",
       "    </tr>\n",
       "    <tr>\n",
       "      <th>2</th>\n",
       "      <td>2</td>\n",
       "      <td>female</td>\n",
       "      <td>common_voice_en_37184046.wav</td>\n",
       "    </tr>\n",
       "    <tr>\n",
       "      <th>3</th>\n",
       "      <td>3</td>\n",
       "      <td>male</td>\n",
       "      <td>common_voice_en_36884787.wav</td>\n",
       "    </tr>\n",
       "    <tr>\n",
       "      <th>4</th>\n",
       "      <td>4</td>\n",
       "      <td>male</td>\n",
       "      <td>common_voice_en_37017938.wav</td>\n",
       "    </tr>\n",
       "    <tr>\n",
       "      <th>...</th>\n",
       "      <td>...</td>\n",
       "      <td>...</td>\n",
       "      <td>...</td>\n",
       "    </tr>\n",
       "    <tr>\n",
       "      <th>865</th>\n",
       "      <td>865</td>\n",
       "      <td>female</td>\n",
       "      <td>common_voice_en_37206583.wav</td>\n",
       "    </tr>\n",
       "    <tr>\n",
       "      <th>866</th>\n",
       "      <td>866</td>\n",
       "      <td>female</td>\n",
       "      <td>common_voice_en_36927020.wav</td>\n",
       "    </tr>\n",
       "    <tr>\n",
       "      <th>867</th>\n",
       "      <td>867</td>\n",
       "      <td>male</td>\n",
       "      <td>common_voice_en_36735221.wav</td>\n",
       "    </tr>\n",
       "    <tr>\n",
       "      <th>868</th>\n",
       "      <td>868</td>\n",
       "      <td>male</td>\n",
       "      <td>common_voice_en_36735495.wav</td>\n",
       "    </tr>\n",
       "    <tr>\n",
       "      <th>869</th>\n",
       "      <td>869</td>\n",
       "      <td>female</td>\n",
       "      <td>common_voice_en_36530310.wav</td>\n",
       "    </tr>\n",
       "  </tbody>\n",
       "</table>\n",
       "<p>870 rows × 3 columns</p>\n",
       "</div>"
      ],
      "text/plain": [
       "     Unnamed: 0   label                         fname\n",
       "0             0    male  common_voice_en_37256628.wav\n",
       "1             1    male  common_voice_en_36837088.wav\n",
       "2             2  female  common_voice_en_37184046.wav\n",
       "3             3    male  common_voice_en_36884787.wav\n",
       "4             4    male  common_voice_en_37017938.wav\n",
       "..          ...     ...                           ...\n",
       "865         865  female  common_voice_en_37206583.wav\n",
       "866         866  female  common_voice_en_36927020.wav\n",
       "867         867    male  common_voice_en_36735221.wav\n",
       "868         868    male  common_voice_en_36735495.wav\n",
       "869         869  female  common_voice_en_36530310.wav\n",
       "\n",
       "[870 rows x 3 columns]"
      ]
     },
     "execution_count": 158,
     "metadata": {},
     "output_type": "execute_result"
    }
   ],
   "source": [
    "pd.read_csv(os.path.join(\"data\", \"CVSoundScapes\", \"CV-13-mini\", \"test.csv\"))"
   ]
  },
  {
   "cell_type": "code",
   "execution_count": 106,
   "id": "4c89d0e9-5437-49ac-86e0-932b6230afee",
   "metadata": {},
   "outputs": [
    {
     "data": {
      "text/html": [
       "<div>\n",
       "<style scoped>\n",
       "    .dataframe tbody tr th:only-of-type {\n",
       "        vertical-align: middle;\n",
       "    }\n",
       "\n",
       "    .dataframe tbody tr th {\n",
       "        vertical-align: top;\n",
       "    }\n",
       "\n",
       "    .dataframe thead th {\n",
       "        text-align: right;\n",
       "    }\n",
       "</style>\n",
       "<table border=\"1\" class=\"dataframe\">\n",
       "  <thead>\n",
       "    <tr style=\"text-align: right;\">\n",
       "      <th></th>\n",
       "      <th>Unnamed: 0</th>\n",
       "      <th>label</th>\n",
       "      <th>fname</th>\n",
       "    </tr>\n",
       "  </thead>\n",
       "  <tbody>\n",
       "    <tr>\n",
       "      <th>0</th>\n",
       "      <td>0</td>\n",
       "      <td>Saxophone</td>\n",
       "      <td>FSDKaggle2018.audio_train/b93d6988.wav</td>\n",
       "    </tr>\n",
       "    <tr>\n",
       "      <th>1</th>\n",
       "      <td>1</td>\n",
       "      <td>Saxophone</td>\n",
       "      <td>FSDKaggle2018.audio_train/99411449.wav</td>\n",
       "    </tr>\n",
       "    <tr>\n",
       "      <th>2</th>\n",
       "      <td>2</td>\n",
       "      <td>Saxophone</td>\n",
       "      <td>FSDKaggle2018.audio_train/7470ab2c.wav</td>\n",
       "    </tr>\n",
       "    <tr>\n",
       "      <th>3</th>\n",
       "      <td>3</td>\n",
       "      <td>Saxophone</td>\n",
       "      <td>FSDKaggle2018.audio_train/dcd37383.wav</td>\n",
       "    </tr>\n",
       "    <tr>\n",
       "      <th>4</th>\n",
       "      <td>4</td>\n",
       "      <td>Saxophone</td>\n",
       "      <td>FSDKaggle2018.audio_train/b120dc90.wav</td>\n",
       "    </tr>\n",
       "    <tr>\n",
       "      <th>...</th>\n",
       "      <td>...</td>\n",
       "      <td>...</td>\n",
       "      <td>...</td>\n",
       "    </tr>\n",
       "    <tr>\n",
       "      <th>3355</th>\n",
       "      <td>3355</td>\n",
       "      <td>Applause</td>\n",
       "      <td>FSDKaggle2018.audio_train/e08db496.wav</td>\n",
       "    </tr>\n",
       "    <tr>\n",
       "      <th>3356</th>\n",
       "      <td>3356</td>\n",
       "      <td>Applause</td>\n",
       "      <td>FSDKaggle2018.audio_train/d3ede893.wav</td>\n",
       "    </tr>\n",
       "    <tr>\n",
       "      <th>3357</th>\n",
       "      <td>3357</td>\n",
       "      <td>Applause</td>\n",
       "      <td>FSDKaggle2018.audio_train/ad2bb540.wav</td>\n",
       "    </tr>\n",
       "    <tr>\n",
       "      <th>3358</th>\n",
       "      <td>3358</td>\n",
       "      <td>Applause</td>\n",
       "      <td>FSDKaggle2018.audio_train/a5a7b9a9.wav</td>\n",
       "    </tr>\n",
       "    <tr>\n",
       "      <th>3359</th>\n",
       "      <td>3359</td>\n",
       "      <td>Applause</td>\n",
       "      <td>FSDKaggle2018.audio_train/784920ab.wav</td>\n",
       "    </tr>\n",
       "  </tbody>\n",
       "</table>\n",
       "<p>3360 rows × 3 columns</p>\n",
       "</div>"
      ],
      "text/plain": [
       "      Unnamed: 0      label                                   fname\n",
       "0              0  Saxophone  FSDKaggle2018.audio_train/b93d6988.wav\n",
       "1              1  Saxophone  FSDKaggle2018.audio_train/99411449.wav\n",
       "2              2  Saxophone  FSDKaggle2018.audio_train/7470ab2c.wav\n",
       "3              3  Saxophone  FSDKaggle2018.audio_train/dcd37383.wav\n",
       "4              4  Saxophone  FSDKaggle2018.audio_train/b120dc90.wav\n",
       "...          ...        ...                                     ...\n",
       "3355        3355   Applause  FSDKaggle2018.audio_train/e08db496.wav\n",
       "3356        3356   Applause  FSDKaggle2018.audio_train/d3ede893.wav\n",
       "3357        3357   Applause  FSDKaggle2018.audio_train/ad2bb540.wav\n",
       "3358        3358   Applause  FSDKaggle2018.audio_train/a5a7b9a9.wav\n",
       "3359        3359   Applause  FSDKaggle2018.audio_train/784920ab.wav\n",
       "\n",
       "[3360 rows x 3 columns]"
      ]
     },
     "execution_count": 106,
     "metadata": {},
     "output_type": "execute_result"
    }
   ],
   "source": [
    "# example of existing data\n",
    "df_temp = pd.read_csv(os.path.join(\"data\", \"FSDSoundScapes\", \"FSDKaggle2018\", \"train.csv\"))\n",
    "df_temp"
   ]
  },
  {
   "cell_type": "markdown",
   "id": "7868e2e1-a8df-4343-aee1-631e41eda1d4",
   "metadata": {},
   "source": [
    "### Copy selected files to a specified location"
   ]
  },
  {
   "cell_type": "code",
   "execution_count": 68,
   "id": "8630c5a7-464c-47d7-940e-2fc0dd1ab2f5",
   "metadata": {},
   "outputs": [
    {
     "data": {
      "text/plain": [
       "'data/mozilla-cv/cv-13-selected/clips'"
      ]
     },
     "execution_count": 68,
     "metadata": {},
     "output_type": "execute_result"
    }
   ],
   "source": [
    "destination_folder = os.path.join(\"data\", \"mozilla-cv\", \"cv-13-selected\", \"clips\")\n",
    "destination_folder"
   ]
  },
  {
   "cell_type": "code",
   "execution_count": 69,
   "id": "22278c4c-7b82-49ea-aa7d-e6747bf1c067",
   "metadata": {},
   "outputs": [],
   "source": [
    "# parse all rows\n",
    "for idx, row in df_tsv.iterrows():\n",
    "    file_path = os.path.join(folder_path, \"clips\", row['path'])\n",
    "    \n",
    "    # Check if file exists\n",
    "    if os.path.isfile(file_path):\n",
    "        # Copy the file to the destination folder\n",
    "        shutil.copy(file_path, destination_folder)\n",
    "    else:\n",
    "        print(f\"File does not exist: {file_path}\")"
   ]
  },
  {
   "cell_type": "code",
   "execution_count": 71,
   "id": "2571509c-59df-4cfb-aca8-c78e19d51068",
   "metadata": {},
   "outputs": [],
   "source": [
    "df_tsv.to_csv(os.path.join(\"data\", \"mozilla-cv\", \"cv-13-selected\", \"selected.csv\") ,index=False, header=True)"
   ]
  }
 ],
 "metadata": {
  "kernelspec": {
   "display_name": "waveformer",
   "language": "python",
   "name": "waveformer"
  },
  "language_info": {
   "codemirror_mode": {
    "name": "ipython",
    "version": 3
   },
   "file_extension": ".py",
   "mimetype": "text/x-python",
   "name": "python",
   "nbconvert_exporter": "python",
   "pygments_lexer": "ipython3",
   "version": "3.8.16"
  }
 },
 "nbformat": 4,
 "nbformat_minor": 5
}
