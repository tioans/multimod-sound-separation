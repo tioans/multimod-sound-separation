{
 "cells": [
  {
   "cell_type": "code",
   "execution_count": 201,
   "id": "d4da5bff-15c1-4553-a69b-a910c04c5a38",
   "metadata": {},
   "outputs": [],
   "source": [
    "import numpy as np\n",
    "import pandas as pd\n",
    "\n",
    "from sklearn.model_selection import train_test_split\n",
    "from pydub import AudioSegment\n",
    "\n",
    "import os, shutil"
   ]
  },
  {
   "cell_type": "code",
   "execution_count": 181,
   "id": "0958a9df-59d1-4c32-99c5-a53de5e096be",
   "metadata": {},
   "outputs": [
    {
     "name": "stdout",
     "output_type": "stream",
     "text": [
      "Root Dir:  /scratch/IOSZ/waveformer/multimod-sound-separation/multimod-waveformer\n"
     ]
    }
   ],
   "source": [
    "ROOT_DIR = os.getcwd()\n",
    "print(\"Root Dir: \", ROOT_DIR)"
   ]
  },
  {
   "cell_type": "markdown",
   "id": "ec392e6a-2a93-43cd-b788-dc5df902d9a6",
   "metadata": {},
   "source": [
    "## Mozilla CV data"
   ]
  },
  {
   "cell_type": "code",
   "execution_count": 182,
   "id": "3f551a2c-6744-40a6-b203-3615b7cf9f0d",
   "metadata": {},
   "outputs": [],
   "source": [
    "SEED = 42\n",
    "\n",
    "cv_corpus = \"cv-corpus-13.0-delta-2023-03-09\"  # \"cv-corpus-14.0-delta-2023-06-23\"\n",
    "tsv_file = \"validated.tsv\"\n",
    "folder_path = os.path.join(\"data\", \"mozilla-cv\", cv_corpus, \"en\")\n",
    "\n",
    "csv_output_folder = os.path.join(\"data\", \"CVSoundScapes\", \"cv-files\")"
   ]
  },
  {
   "cell_type": "markdown",
   "id": "90f4cab5-b200-486f-b9ae-17729990938f",
   "metadata": {},
   "source": [
    "### Read metadata"
   ]
  },
  {
   "cell_type": "code",
   "execution_count": 144,
   "id": "531e76d1-c7a0-40d0-ad15-2947dccf793a",
   "metadata": {},
   "outputs": [],
   "source": [
    "# read tsv file\n",
    "df_tsv = pd.read_csv(os.path.join(folder_path, tsv_file), sep='\\t')"
   ]
  },
  {
   "cell_type": "code",
   "execution_count": 145,
   "id": "d317c02d-bb61-481c-aa31-b25ae39b2847",
   "metadata": {},
   "outputs": [
    {
     "name": "stdout",
     "output_type": "stream",
     "text": [
      "(6983, 11)\n",
      "Index(['client_id', 'path', 'sentence', 'up_votes', 'down_votes', 'age',\n",
      "       'gender', 'accents', 'variant', 'locale', 'segment'],\n",
      "      dtype='object')\n"
     ]
    }
   ],
   "source": [
    "# dataframe details\n",
    "print(df_tsv.shape)\n",
    "print(df_tsv.columns)"
   ]
  },
  {
   "cell_type": "code",
   "execution_count": 146,
   "id": "4f108dfa-d9db-4962-8833-b70d56ba2ee8",
   "metadata": {},
   "outputs": [
    {
     "data": {
      "text/plain": [
       "gender\n",
       "male      4336\n",
       "female    1514\n",
       "other       97\n",
       "Name: count, dtype: int64"
      ]
     },
     "execution_count": 146,
     "metadata": {},
     "output_type": "execute_result"
    }
   ],
   "source": [
    "df_tsv[\"gender\"].value_counts()"
   ]
  },
  {
   "cell_type": "markdown",
   "id": "fcd592a7-43d7-4e77-a2ac-b28c28de50c5",
   "metadata": {},
   "source": [
    "### Data cleaning"
   ]
  },
  {
   "cell_type": "code",
   "execution_count": 147,
   "id": "d8919319-ab06-45e5-ba6c-0fc875b66e52",
   "metadata": {},
   "outputs": [],
   "source": [
    "# get only samples with \n",
    "df_tsv = df_tsv[~df_tsv[\"gender\"].isna()]"
   ]
  },
  {
   "cell_type": "code",
   "execution_count": 148,
   "id": "0093e817-7210-4e5a-88cb-76a49028c890",
   "metadata": {},
   "outputs": [
    {
     "data": {
      "text/plain": [
       "down_votes\n",
       "0    5892\n",
       "2      39\n",
       "1      10\n",
       "3       4\n",
       "4       1\n",
       "5       1\n",
       "Name: count, dtype: int64"
      ]
     },
     "execution_count": 148,
     "metadata": {},
     "output_type": "execute_result"
    }
   ],
   "source": [
    "df_tsv[\"down_votes\"].value_counts()"
   ]
  },
  {
   "cell_type": "code",
   "execution_count": 149,
   "id": "c02cf707-0bc8-4c0a-8d14-26d91f268f02",
   "metadata": {},
   "outputs": [],
   "source": [
    "df_tsv = df_tsv[df_tsv[\"down_votes\"] == 0]  # keep only samples without downvotes"
   ]
  },
  {
   "cell_type": "code",
   "execution_count": 150,
   "id": "a6396469-eda7-43aa-a535-25dc5c160ca0",
   "metadata": {},
   "outputs": [
    {
     "data": {
      "text/plain": [
       "down_votes\n",
       "0    5892\n",
       "Name: count, dtype: int64"
      ]
     },
     "execution_count": 150,
     "metadata": {},
     "output_type": "execute_result"
    }
   ],
   "source": [
    "df_tsv[\"down_votes\"].value_counts()"
   ]
  },
  {
   "cell_type": "code",
   "execution_count": 151,
   "id": "2be0cec3-c1ff-465e-ae67-3858c4a79f08",
   "metadata": {},
   "outputs": [],
   "source": [
    "df_tsv = df_tsv[df_tsv[\"gender\"].isin([\"male\", \"female\"])]  # keep only male and female labels"
   ]
  },
  {
   "cell_type": "code",
   "execution_count": 152,
   "id": "b5a4aff9-c0a5-45e9-9449-4580bae9dc9d",
   "metadata": {},
   "outputs": [
    {
     "data": {
      "text/plain": [
       "gender\n",
       "male      4291\n",
       "female    1506\n",
       "Name: count, dtype: int64"
      ]
     },
     "execution_count": 152,
     "metadata": {},
     "output_type": "execute_result"
    }
   ],
   "source": [
    "df_tsv[\"gender\"].value_counts()  "
   ]
  },
  {
   "cell_type": "code",
   "execution_count": 153,
   "id": "00bfc320-91f0-4859-9cbe-dff156df9207",
   "metadata": {},
   "outputs": [],
   "source": [
    "df_tsv.reset_index(drop=True, inplace=True)"
   ]
  },
  {
   "cell_type": "markdown",
   "id": "2fe0ddb7-cdb4-474c-a8e6-2b5ffd0080e2",
   "metadata": {},
   "source": [
    "### (Optional) Convert mp3 files to wav - manual choice"
   ]
  },
  {
   "cell_type": "code",
   "execution_count": 154,
   "id": "81d17927-df87-4631-af9f-3264c3752def",
   "metadata": {},
   "outputs": [
    {
     "name": "stdout",
     "output_type": "stream",
     "text": [
      "data/mozilla-cv/cv-corpus-13.0-delta-2023-03-09/en/clips\n",
      "data/mozilla-cv/cv-13-selected\n"
     ]
    }
   ],
   "source": [
    "# define the directory that contains the mp3 files\n",
    "input_dir = os.path.join(folder_path, 'clips')\n",
    "output_dir = os.path.join('data', 'mozilla-cv', 'cv-13-selected')  # MANUALLY SELECT LOCATION\n",
    "\n",
    "print(input_dir)\n",
    "print(output_dir)"
   ]
  },
  {
   "cell_type": "code",
   "execution_count": 155,
   "id": "c97defdd-0d18-4d86-b463-a4cbf7476c3e",
   "metadata": {},
   "outputs": [],
   "source": [
    "def convert_mp3_to_wav(mp3_path, wav_path):\n",
    "    audio = AudioSegment.from_mp3(mp3_path)\n",
    "    audio.export(wav_path, format='wav')"
   ]
  },
  {
   "cell_type": "code",
   "execution_count": 156,
   "id": "927a8ed8-c4c4-4704-b438-913b1bf2ebd2",
   "metadata": {},
   "outputs": [],
   "source": [
    "# make sure the output directory exists\n",
    "os.makedirs(output_dir, exist_ok=True)\n",
    "\n",
    "# iterate over the files in the above selected df\n",
    "for idx, row in df_tsv.iterrows():\n",
    "    \n",
    "    # get the path to the given file\n",
    "    file_name = row[\"path\"]\n",
    "    \n",
    "    # check if the file is an mp3\n",
    "    if file_name.endswith('.mp3'):\n",
    "        mp3_path = os.path.join(input_dir, file_name)\n",
    "        wav_file_name = os.path.splitext(file_name)[0] + '.wav'  # replace .mp3 with .wav\n",
    "        wav_path = os.path.join(output_dir, wav_file_name)\n",
    "        \n",
    "        convert_mp3_to_wav(mp3_path, wav_path)  # run the conversion"
   ]
  },
  {
   "cell_type": "markdown",
   "id": "3ea52e47-85d9-4966-bd37-1330d950947f",
   "metadata": {},
   "source": [
    "### Replace .mp3 with .wav"
   ]
  },
  {
   "cell_type": "code",
   "execution_count": 157,
   "id": "66452363-9932-42e3-b542-f45fed7041d9",
   "metadata": {},
   "outputs": [],
   "source": [
    "df_tsv[\"path\"] = df_tsv[\"path\"].apply(lambda row: row[:-3] + \"wav\")"
   ]
  },
  {
   "cell_type": "code",
   "execution_count": 158,
   "id": "c1af9316-0ffc-4b9d-a4bc-b154e124b04e",
   "metadata": {},
   "outputs": [
    {
     "data": {
      "text/html": [
       "<div>\n",
       "<style scoped>\n",
       "    .dataframe tbody tr th:only-of-type {\n",
       "        vertical-align: middle;\n",
       "    }\n",
       "\n",
       "    .dataframe tbody tr th {\n",
       "        vertical-align: top;\n",
       "    }\n",
       "\n",
       "    .dataframe thead th {\n",
       "        text-align: right;\n",
       "    }\n",
       "</style>\n",
       "<table border=\"1\" class=\"dataframe\">\n",
       "  <thead>\n",
       "    <tr style=\"text-align: right;\">\n",
       "      <th></th>\n",
       "      <th>client_id</th>\n",
       "      <th>path</th>\n",
       "      <th>sentence</th>\n",
       "      <th>up_votes</th>\n",
       "      <th>down_votes</th>\n",
       "      <th>age</th>\n",
       "      <th>gender</th>\n",
       "      <th>accents</th>\n",
       "      <th>variant</th>\n",
       "      <th>locale</th>\n",
       "      <th>segment</th>\n",
       "    </tr>\n",
       "  </thead>\n",
       "  <tbody>\n",
       "    <tr>\n",
       "      <th>0</th>\n",
       "      <td>1a2cacd4c67ba9001d44e3cf0ec327ab480e79b7ff0fd3...</td>\n",
       "      <td>common_voice_en_36951323.wav</td>\n",
       "      <td>Restricted breathing, joint stiffness, and hea...</td>\n",
       "      <td>4</td>\n",
       "      <td>0</td>\n",
       "      <td>twenties</td>\n",
       "      <td>male</td>\n",
       "      <td>United States English</td>\n",
       "      <td>NaN</td>\n",
       "      <td>en</td>\n",
       "      <td>NaN</td>\n",
       "    </tr>\n",
       "    <tr>\n",
       "      <th>1</th>\n",
       "      <td>1ee465e99f453ac7b20193d2cb28986bf0d553b2ca6789...</td>\n",
       "      <td>common_voice_en_37251984.wav</td>\n",
       "      <td>The German population was either evacuated or ...</td>\n",
       "      <td>2</td>\n",
       "      <td>0</td>\n",
       "      <td>fourties</td>\n",
       "      <td>female</td>\n",
       "      <td>United States English</td>\n",
       "      <td>NaN</td>\n",
       "      <td>en</td>\n",
       "      <td>NaN</td>\n",
       "    </tr>\n",
       "    <tr>\n",
       "      <th>2</th>\n",
       "      <td>2432927a3acd24b583f0f759819eb4e1b7150bf681b938...</td>\n",
       "      <td>common_voice_en_37028857.wav</td>\n",
       "      <td>The Church said Sony did not obtain permission...</td>\n",
       "      <td>2</td>\n",
       "      <td>0</td>\n",
       "      <td>sixties</td>\n",
       "      <td>female</td>\n",
       "      <td>United States English</td>\n",
       "      <td>NaN</td>\n",
       "      <td>en</td>\n",
       "      <td>NaN</td>\n",
       "    </tr>\n",
       "  </tbody>\n",
       "</table>\n",
       "</div>"
      ],
      "text/plain": [
       "                                           client_id   \n",
       "0  1a2cacd4c67ba9001d44e3cf0ec327ab480e79b7ff0fd3...  \\\n",
       "1  1ee465e99f453ac7b20193d2cb28986bf0d553b2ca6789...   \n",
       "2  2432927a3acd24b583f0f759819eb4e1b7150bf681b938...   \n",
       "\n",
       "                           path   \n",
       "0  common_voice_en_36951323.wav  \\\n",
       "1  common_voice_en_37251984.wav   \n",
       "2  common_voice_en_37028857.wav   \n",
       "\n",
       "                                            sentence  up_votes  down_votes   \n",
       "0  Restricted breathing, joint stiffness, and hea...         4           0  \\\n",
       "1  The German population was either evacuated or ...         2           0   \n",
       "2  The Church said Sony did not obtain permission...         2           0   \n",
       "\n",
       "        age  gender                accents  variant locale  segment  \n",
       "0  twenties    male  United States English      NaN     en      NaN  \n",
       "1  fourties  female  United States English      NaN     en      NaN  \n",
       "2   sixties  female  United States English      NaN     en      NaN  "
      ]
     },
     "execution_count": 158,
     "metadata": {},
     "output_type": "execute_result"
    }
   ],
   "source": [
    "df_tsv.head(3)"
   ]
  },
  {
   "cell_type": "markdown",
   "id": "4bf52530-a45b-4f50-a9a8-6e4bbd262142",
   "metadata": {},
   "source": [
    "### (Optional) Join multiple CV datasets into a single csv file"
   ]
  },
  {
   "cell_type": "markdown",
   "id": "3286e45f-aa46-4702-aeb6-9c5394c4de00",
   "metadata": {},
   "source": [
    "#### This is done by running the above code one time/cv dataset and storing the df into a temp file as below to join them afterwards"
   ]
  },
  {
   "cell_type": "code",
   "execution_count": 163,
   "id": "eaf1502a-51a7-41ed-92ca-2f0d30b2e9c7",
   "metadata": {},
   "outputs": [],
   "source": [
    "# df_tsv_13 = df_tsv.copy()\n",
    "# df_tsv_13.to_csv(os.path.join(ROOT_DIR, \"data\", \"mozilla-cv\", \"cv-13-selected.csv\"), header=True, index=False)"
   ]
  },
  {
   "cell_type": "code",
   "execution_count": 142,
   "id": "512210de-5251-4de1-a198-f79b9faac4aa",
   "metadata": {},
   "outputs": [],
   "source": [
    "# df_tsv_14 = df_tsv.copy()\n",
    "# df_tsv_14.to_csv(os.path.join(ROOT_DIR, \"data\", \"mozilla-cv\", \"cv-14-selected.csv\"), header=True, index=False)"
   ]
  },
  {
   "cell_type": "code",
   "execution_count": 176,
   "id": "a513e22a-a9ed-47e3-91d3-8381c3e68ef6",
   "metadata": {},
   "outputs": [],
   "source": [
    "# df_tsv = pd.concat([df_tsv, df_tsv_14], axis=0).reset_index(drop=True)\n",
    "# df_tsv.to_csv(os.path.join(ROOT_DIR, \"data\", \"mozilla-cv\", \"cv-all-selected.csv\"), index=False, header=True)"
   ]
  },
  {
   "cell_type": "code",
   "execution_count": null,
   "id": "527862ff-a288-4d07-8424-0c8a551de212",
   "metadata": {},
   "outputs": [],
   "source": [
    "# to read the file back\n",
    "# df_tsv = pd.read_csv(os.path.join(ROOT_DIR, \"data\", \"mozilla-cv\", \"cv-all-selected.csv\"))\n",
    "# df_tsv.head(3)"
   ]
  },
  {
   "cell_type": "markdown",
   "id": "0ee15447-fdb2-4021-aca1-073e5766119c",
   "metadata": {},
   "source": [
    "### Split data into train, val and test"
   ]
  },
  {
   "cell_type": "code",
   "execution_count": 170,
   "id": "181a823f-4edd-46c7-a306-3bd65cab60eb",
   "metadata": {},
   "outputs": [],
   "source": [
    "# create the train/test split\n",
    "df_train, df_test = train_test_split(df_tsv, test_size=0.15, random_state=SEED)\n",
    "\n",
    "# get the val split\n",
    "df_train, df_val = train_test_split(df_train, test_size=0.05, random_state=SEED)\n",
    "\n",
    "# reordering the columns\n",
    "df_train = df_train[['gender', 'path']].reset_index(drop=True, inplace=False)\n",
    "df_train.columns = ['label', 'fname']\n",
    "\n",
    "df_val = df_val[['gender', 'path']].reset_index(drop=True, inplace=False)\n",
    "df_val.columns = ['label', 'fname']\n",
    "\n",
    "df_test = df_test[['gender', 'path']].reset_index(drop=True, inplace=False)\n",
    "df_test.columns = ['label', 'fname']\n",
    "\n",
    "# save each dataframe to a csv\n",
    "df_train.to_csv(os.path.join(csv_output_folder, 'train.csv'), index=True)  # index to match original data\n",
    "df_val.to_csv(os.path.join(csv_output_folder, 'val.csv'), index=True)\n",
    "df_test.to_csv(os.path.join(csv_output_folder, 'test.csv'), index=True)"
   ]
  },
  {
   "cell_type": "code",
   "execution_count": 172,
   "id": "ffa81f7c-2697-4974-9b4c-8bb882b120d4",
   "metadata": {},
   "outputs": [
    {
     "data": {
      "text/html": [
       "<div>\n",
       "<style scoped>\n",
       "    .dataframe tbody tr th:only-of-type {\n",
       "        vertical-align: middle;\n",
       "    }\n",
       "\n",
       "    .dataframe tbody tr th {\n",
       "        vertical-align: top;\n",
       "    }\n",
       "\n",
       "    .dataframe thead th {\n",
       "        text-align: right;\n",
       "    }\n",
       "</style>\n",
       "<table border=\"1\" class=\"dataframe\">\n",
       "  <thead>\n",
       "    <tr style=\"text-align: right;\">\n",
       "      <th></th>\n",
       "      <th>Unnamed: 0</th>\n",
       "      <th>label</th>\n",
       "      <th>fname</th>\n",
       "    </tr>\n",
       "  </thead>\n",
       "  <tbody>\n",
       "    <tr>\n",
       "      <th>0</th>\n",
       "      <td>0</td>\n",
       "      <td>male</td>\n",
       "      <td>common_voice_en_37289426.wav</td>\n",
       "    </tr>\n",
       "    <tr>\n",
       "      <th>1</th>\n",
       "      <td>1</td>\n",
       "      <td>female</td>\n",
       "      <td>common_voice_en_37206851.wav</td>\n",
       "    </tr>\n",
       "    <tr>\n",
       "      <th>2</th>\n",
       "      <td>2</td>\n",
       "      <td>male</td>\n",
       "      <td>common_voice_en_36657414.wav</td>\n",
       "    </tr>\n",
       "    <tr>\n",
       "      <th>3</th>\n",
       "      <td>3</td>\n",
       "      <td>male</td>\n",
       "      <td>common_voice_en_36808767.wav</td>\n",
       "    </tr>\n",
       "    <tr>\n",
       "      <th>4</th>\n",
       "      <td>4</td>\n",
       "      <td>female</td>\n",
       "      <td>common_voice_en_36906367.wav</td>\n",
       "    </tr>\n",
       "    <tr>\n",
       "      <th>...</th>\n",
       "      <td>...</td>\n",
       "      <td>...</td>\n",
       "      <td>...</td>\n",
       "    </tr>\n",
       "    <tr>\n",
       "      <th>7378</th>\n",
       "      <td>7378</td>\n",
       "      <td>male</td>\n",
       "      <td>common_voice_en_36912887.wav</td>\n",
       "    </tr>\n",
       "    <tr>\n",
       "      <th>7379</th>\n",
       "      <td>7379</td>\n",
       "      <td>male</td>\n",
       "      <td>common_voice_en_37343524.wav</td>\n",
       "    </tr>\n",
       "    <tr>\n",
       "      <th>7380</th>\n",
       "      <td>7380</td>\n",
       "      <td>male</td>\n",
       "      <td>common_voice_en_37539766.wav</td>\n",
       "    </tr>\n",
       "    <tr>\n",
       "      <th>7381</th>\n",
       "      <td>7381</td>\n",
       "      <td>female</td>\n",
       "      <td>common_voice_en_37976327.wav</td>\n",
       "    </tr>\n",
       "    <tr>\n",
       "      <th>7382</th>\n",
       "      <td>7382</td>\n",
       "      <td>female</td>\n",
       "      <td>common_voice_en_37982150.wav</td>\n",
       "    </tr>\n",
       "  </tbody>\n",
       "</table>\n",
       "<p>7383 rows × 3 columns</p>\n",
       "</div>"
      ],
      "text/plain": [
       "      Unnamed: 0   label                         fname\n",
       "0              0    male  common_voice_en_37289426.wav\n",
       "1              1  female  common_voice_en_37206851.wav\n",
       "2              2    male  common_voice_en_36657414.wav\n",
       "3              3    male  common_voice_en_36808767.wav\n",
       "4              4  female  common_voice_en_36906367.wav\n",
       "...          ...     ...                           ...\n",
       "7378        7378    male  common_voice_en_36912887.wav\n",
       "7379        7379    male  common_voice_en_37343524.wav\n",
       "7380        7380    male  common_voice_en_37539766.wav\n",
       "7381        7381  female  common_voice_en_37976327.wav\n",
       "7382        7382  female  common_voice_en_37982150.wav\n",
       "\n",
       "[7383 rows x 3 columns]"
      ]
     },
     "execution_count": 172,
     "metadata": {},
     "output_type": "execute_result"
    }
   ],
   "source": [
    "pd.read_csv(os.path.join(csv_output_folder, \"train.csv\"))"
   ]
  },
  {
   "cell_type": "code",
   "execution_count": 89,
   "id": "4c89d0e9-5437-49ac-86e0-932b6230afee",
   "metadata": {},
   "outputs": [],
   "source": [
    "# # example of existing data\n",
    "# df_temp = pd.read_csv(os.path.join(\"data\", \"FSDSoundScapes\", \"FSDKaggle2018\", \"train.csv\"))\n",
    "# df_temp"
   ]
  },
  {
   "cell_type": "markdown",
   "id": "7868e2e1-a8df-4343-aee1-631e41eda1d4",
   "metadata": {},
   "source": [
    "### Copy selected files to the new dataset location"
   ]
  },
  {
   "cell_type": "code",
   "execution_count": 206,
   "id": "00751a02-2dc2-4427-9adb-0ff57953728c",
   "metadata": {},
   "outputs": [
    {
     "name": "stdout",
     "output_type": "stream",
     "text": [
      "Data input:  /scratch/IOSZ/waveformer/multimod-sound-separation/multimod-waveformer/data/mozilla-cv/cv-all-selected\n",
      "Destination:  data/CVSoundScapes/cv-files/val  :  (389, 2)\n"
     ]
    }
   ],
   "source": [
    "DATA_SPLIT = \"val\"  # MANUALLY CHOOSE THE SPLIT\n",
    "DATA_INPUT_LOCATION = os.path.join(ROOT_DIR, \"data\", \"mozilla-cv\", \"cv-all-selected\")\n",
    "\n",
    "# switch the folder loccations\n",
    "if DATA_SPLIT == \"train\":\n",
    "    destination_folder = os.path.join(csv_output_folder, \"train\")\n",
    "    df_to_use = df_train\n",
    "elif DATA_SPLIT == \"test\":\n",
    "    destination_folder = os.path.join(csv_output_folder, \"test\")\n",
    "    df_to_use = df_test\n",
    "else:\n",
    "    destination_folder = os.path.join(csv_output_folder, \"val\")\n",
    "    df_to_use = df_val\n",
    "    \n",
    "print(\"Data input: \", DATA_INPUT_LOCATION)\n",
    "print(\"Destination: \", destination_folder, \" : \", df_to_use.shape)"
   ]
  },
  {
   "cell_type": "code",
   "execution_count": 207,
   "id": "22278c4c-7b82-49ea-aa7d-e6747bf1c067",
   "metadata": {},
   "outputs": [],
   "source": [
    "# parse all rows\n",
    "for idx, row in df_to_use.iterrows():\n",
    "    file_path = os.path.join(DATA_INPUT_LOCATION, row['fname'])\n",
    "    \n",
    "    # Check if file exists\n",
    "    if os.path.isfile(file_path):\n",
    "        # Copy the file to the destination folder\n",
    "        shutil.copy(file_path, os.path.join(destination_folder, row['label']))\n",
    "    else:\n",
    "        print(f\"File does not exist: {file_path}\")"
   ]
  },
  {
   "cell_type": "markdown",
   "id": "42d27f6c-7cac-4437-bd5c-ef9d30bcec98",
   "metadata": {},
   "source": [
    "## Following code is optional post-hoc analysis"
   ]
  },
  {
   "cell_type": "markdown",
   "id": "97d54e03-215b-4ac8-a7cd-8274ce7fe0c8",
   "metadata": {},
   "source": [
    "### Check amplitude values"
   ]
  },
  {
   "cell_type": "markdown",
   "id": "165dabd2-e94b-4dcb-97ce-e8fa34640b93",
   "metadata": {},
   "source": [
    "#### Turns out FSDKaggle2018 has many files going outside the [-1, 1] amplitude range"
   ]
  },
  {
   "cell_type": "code",
   "execution_count": 19,
   "id": "90e39654-e834-4d50-8e39-f1aeb49fbc48",
   "metadata": {},
   "outputs": [],
   "source": [
    "import librosa, soundfile"
   ]
  },
  {
   "cell_type": "code",
   "execution_count": 6,
   "id": "f724cb44-50ad-440b-95d6-e5c6528a0525",
   "metadata": {},
   "outputs": [],
   "source": [
    "curr_path = os.path.join(\"data\", \"CVSoundScapes\", \"CV-13-mini\", \"train\", \"male\", \"common_voice_en_36705411.wav\")"
   ]
  },
  {
   "cell_type": "code",
   "execution_count": 7,
   "id": "aa824d99-ef29-4980-95f8-e52f6306b8db",
   "metadata": {},
   "outputs": [
    {
     "name": "stdout",
     "output_type": "stream",
     "text": [
      "Max amplitude: 0.53837484\n",
      "Min amplitude: -0.41033322\n"
     ]
    }
   ],
   "source": [
    "# Load audio file\n",
    "y, sr = librosa.load(curr_path)\n",
    "\n",
    "# Check max and min amplitude\n",
    "max_amp = max(y)\n",
    "min_amp = min(y)\n",
    "\n",
    "print('Max amplitude:', max_amp)\n",
    "print('Min amplitude:', min_amp)"
   ]
  },
  {
   "cell_type": "code",
   "execution_count": 34,
   "id": "81e28df4-189d-4733-a360-8ba8069c3aca",
   "metadata": {},
   "outputs": [
    {
     "name": "stdout",
     "output_type": "stream",
     "text": [
      "data/CVSoundScapes/CV-13-mini/test/female\n"
     ]
    }
   ],
   "source": [
    "audio_dir = os.path.join(\"data\", \"CVSoundScapes\", \"CV-13-mini\", \"test\", \"female\")\n",
    "#audio_dir = os.path.join(\"data\", \"CVSoundScapes\", \"TAU-acoustic-sounds\", \"TAU-urban-acoustic-scenes-2019-development\", \"audio\")\n",
    "#audio_dir = os.path.join(\"data\", \"FSDSoundScapes\", \"FSDKaggle2018\", \"train\", \"Applause\")\n",
    "\n",
    "print(audio_dir)"
   ]
  },
  {
   "cell_type": "code",
   "execution_count": 35,
   "id": "a2a9b78c-6246-4660-a888-a5059e33962c",
   "metadata": {},
   "outputs": [
    {
     "name": "stdout",
     "output_type": "stream",
     "text": [
      "Files changed:  3\n"
     ]
    }
   ],
   "source": [
    "# Get all audio files in the directory\n",
    "audio_files = [f for f in os.listdir(audio_dir) if f.endswith('.wav')]\n",
    "\n",
    "ct = 0\n",
    "# Check each file\n",
    "for audio_file in audio_files:\n",
    "    \n",
    "    # Load audio file\n",
    "    y, sr = librosa.load(os.path.join(audio_dir, audio_file))\n",
    "    \n",
    "    # Check max and min amplitude\n",
    "    max_amp = max(y)\n",
    "    min_amp = min(y)\n",
    "\n",
    "    # If amplitude is out of range, print file name and amplitude\n",
    "    if max_amp > 1 or min_amp < -1:\n",
    "        # print('File:', audio_file)\n",
    "        # print('Max amplitude:', max_amp)\n",
    "        # print('Min amplitude:', min_amp)\n",
    "        # print('---')\n",
    "        \n",
    "        # to normalize and override those files\n",
    "        y = librosa.util.normalize(y)\n",
    "        \n",
    "        soundfile.write(os.path.join(audio_dir, audio_file), y, sr)\n",
    "        \n",
    "        ct += 1\n",
    "\n",
    "print(\"Files changed: \", ct)"
   ]
  },
  {
   "cell_type": "markdown",
   "id": "e8a1811c-8929-4418-aeeb-ac34a8983427",
   "metadata": {},
   "source": [
    "### Check files from multiple downloads"
   ]
  },
  {
   "cell_type": "code",
   "execution_count": 36,
   "id": "147dc976-5aef-4712-bc87-537e17b4cdab",
   "metadata": {},
   "outputs": [
    {
     "data": {
      "text/plain": [
       "'/scratch/IOSZ/waveformer/multimod-sound-separation/multimod-waveformer'"
      ]
     },
     "execution_count": 36,
     "metadata": {},
     "output_type": "execute_result"
    }
   ],
   "source": [
    "os.getcwd()"
   ]
  },
  {
   "cell_type": "code",
   "execution_count": 44,
   "id": "1ebdf3c1-069e-436e-b903-04b2ed169728",
   "metadata": {},
   "outputs": [],
   "source": [
    "# folder locations\n",
    "dir1 = os.path.join('data', 'mozilla-cv', 'cv-corpus-14.0-delta-2023-06-23', 'en', 'clips')\n",
    "dir2 = os.path.join('data', 'mozilla-cv', 'cv-corpus-13.0-delta-2023-03-09', 'en', 'clips')\n",
    "\n",
    "# get filenames in each directory (not including the path)\n",
    "files1 = set(os.listdir(dir1))\n",
    "files2 = set(os.listdir(dir2))\n",
    "\n",
    "# find common filenames\n",
    "common_files = files1.intersection(files2)\n",
    "\n",
    "# print common filenames\n",
    "for file in common_files:\n",
    "    print(file)"
   ]
  },
  {
   "cell_type": "code",
   "execution_count": null,
   "id": "9ce21a54-c5cd-4b9f-b8f6-363cd5134232",
   "metadata": {},
   "outputs": [],
   "source": []
  }
 ],
 "metadata": {
  "kernelspec": {
   "display_name": "waveformer",
   "language": "python",
   "name": "waveformer"
  },
  "language_info": {
   "codemirror_mode": {
    "name": "ipython",
    "version": 3
   },
   "file_extension": ".py",
   "mimetype": "text/x-python",
   "name": "python",
   "nbconvert_exporter": "python",
   "pygments_lexer": "ipython3",
   "version": "3.8.16"
  }
 },
 "nbformat": 4,
 "nbformat_minor": 5
}
