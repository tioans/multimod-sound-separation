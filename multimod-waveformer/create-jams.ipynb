{
 "cells": [
  {
   "cell_type": "code",
   "execution_count": 1,
   "id": "5f8f6c12-fd0d-4bc9-bbc1-cb59417acb9b",
   "metadata": {},
   "outputs": [],
   "source": [
    "import numpy as np\n",
    "import pandas as pd\n",
    "\n",
    "import scaper, os"
   ]
  },
  {
   "cell_type": "code",
   "execution_count": 2,
   "id": "646c1132-eb93-49d7-858e-c0b9f4ce8177",
   "metadata": {},
   "outputs": [
    {
     "name": "stdout",
     "output_type": "stream",
     "text": [
      "Dir:  e:\\Work\\ind-phd\\projects\\multimod-sound-separation\\multimod-waveformer\n",
      "Dir:  e:\\Work\\ind-phd\\projects\\multimod-sound-separation\\multimod-waveformer\\data\n"
     ]
    }
   ],
   "source": [
    "cwd = os.getcwd()\n",
    "\n",
    "print(\"Dir: \", cwd)\n",
    "\n",
    "# change the current path to the data root\n",
    "os.chdir(os.path.join(cwd, \"data\"))\n",
    "print(\"Dir: \", os.getcwd())\n",
    "\n",
    "cwd = os.getcwd()"
   ]
  },
  {
   "attachments": {},
   "cell_type": "markdown",
   "id": "23c0119f-04e3-49f2-a5af-aef4680876df",
   "metadata": {},
   "source": [
    "# Scaper jam generator"
   ]
  },
  {
   "attachments": {},
   "cell_type": "markdown",
   "id": "41f01afb-234f-4df6-8ae7-0eeb42f47b28",
   "metadata": {},
   "source": [
    "#### For training & val datasets: 'TAU-urban-acoustic-scenes-2019-development'\n",
    "#### For testing dataset: 'TAU-urban-acoustic-scenes-2019-evaluation'"
   ]
  },
  {
   "attachments": {},
   "cell_type": "markdown",
   "id": "0e1e640f",
   "metadata": {},
   "source": []
  },
  {
   "attachments": {},
   "cell_type": "markdown",
   "id": "f11773a1-af9e-437a-8813-8c558e5a8c35",
   "metadata": {},
   "source": [
    "#### Train/val/test: 1000/200/300"
   ]
  },
  {
   "attachments": {},
   "cell_type": "markdown",
   "id": "67d5eb7e-75e9-43fa-b7e2-637fe87a424e",
   "metadata": {},
   "source": [
    "### Parameters & locations"
   ]
  },
  {
   "cell_type": "code",
   "execution_count": 96,
   "id": "032e7ed5-dffe-416e-ac86-eb7f4e60209b",
   "metadata": {},
   "outputs": [
    {
     "name": "stdout",
     "output_type": "stream",
     "text": [
      "Ref DB:  -30 ; SNR:  10 - 20 SEED:  69\n"
     ]
    }
   ],
   "source": [
    "DATA_SPLIT = 'train'  # define data split\n",
    "\n",
    "n_soundscapes = 2  # number of .jams files to generate\n",
    "duration = 6.0  # duration of the soundscape in seconds\n",
    "ref_db = -30 # reference dB for the soundscape\n",
    "min_events = 1  # minimum number of events per soundscape\n",
    "max_events = 1  # maximum number of events per soundscape\n",
    "max_event_duration = 5.0  # maximum possible duration of a foreground event\n",
    "fg_snr_low = 10\n",
    "fg_snr_high = 20\n",
    "\n",
    "no_audio = False  # if the jam process should include the raw audio mix as well\n",
    "allow_repeated_label = False  # if you can have multiple events of the same sound label\n",
    "allow_repeated_source = False  # if you can have duplicates of the source files\n",
    "\n",
    "seed = 69\n",
    "\n",
    "print(\"Ref DB: \", ref_db, '; SNR: ',fg_snr_low, \"-\", fg_snr_high, \"SEED: \", seed)"
   ]
  },
  {
   "cell_type": "code",
   "execution_count": 97,
   "id": "d237a4b1-2048-4ef5-a411-1869822d1c89",
   "metadata": {},
   "outputs": [
    {
     "name": "stdout",
     "output_type": "stream",
     "text": [
      "Fg folder:  CVSoundScapes\\CV-13-mini\\train\n",
      "Bg folder:  CVSoundScapes\\TAU-acoustic-sounds\\TAU-urban-acoustic-scenes-2019-development\n"
     ]
    }
   ],
   "source": [
    "# Define constant parameters for the soundscape\n",
    "fg_folder = os.path.join('CVSoundScapes', 'CV-13-mini', DATA_SPLIT)  # foreground folder\n",
    "\n",
    "if DATA_SPLIT == 'train' or DATA_SPLIT == 'val' :\n",
    "    bg_folder = os.path.join('CVSoundScapes', 'TAU-acoustic-sounds', \n",
    "                             'TAU-urban-acoustic-scenes-2019-development')\n",
    "else:\n",
    "    bg_folder = os.path.join('CVSoundScapes', 'TAU-acoustic-sounds', \n",
    "                             'TAU-urban-acoustic-scenes-2019-evaluation')\n",
    "    \n",
    "print('Fg folder: ', fg_folder)\n",
    "print('Bg folder: ', bg_folder)\n",
    "    \n",
    "out_folder = os.path.join('CVSoundScapes', 'jams', DATA_SPLIT)"
   ]
  },
  {
   "attachments": {},
   "cell_type": "markdown",
   "id": "b9144b19-e8f1-447e-9aac-ea3a4a990620",
   "metadata": {},
   "source": [
    "### Generate the jams"
   ]
  },
  {
   "cell_type": "code",
   "execution_count": 98,
   "id": "938742c3-586f-484f-a1fa-d507eb98dcfe",
   "metadata": {},
   "outputs": [],
   "source": [
    "#df = pd.read_csv(os.path.join('data','CVSoundScapes', 'CV-13-mini', 'train.csv'))"
   ]
  },
  {
   "cell_type": "code",
   "execution_count": 100,
   "id": "38fd0b4d-4174-47ed-a2ac-038f91814e80",
   "metadata": {
    "tags": []
   },
   "outputs": [
    {
     "name": "stderr",
     "output_type": "stream",
     "text": [
      "e:\\Work\\Anaconda3\\lib\\site-packages\\scaper\\core.py:1619: ScaperWarning: male event time (1.75) is too great given event duration (5.00) and soundscape duration (6.00), changed to 1.00.\n",
      "  ScaperWarning)\n",
      "e:\\Work\\Anaconda3\\lib\\site-packages\\scaper\\core.py:2078: ScaperWarning: Soundscape audio is clipping!\n",
      "  ScaperWarning)\n",
      "e:\\Work\\Anaconda3\\lib\\site-packages\\scaper\\core.py:1619: ScaperWarning: male event time (1.75) is too great given event duration (5.00) and soundscape duration (6.00), changed to 1.00.\n",
      "  ScaperWarning)\n",
      "e:\\Work\\Anaconda3\\lib\\site-packages\\scaper\\core.py:2078: ScaperWarning: Soundscape audio is clipping!\n",
      "  ScaperWarning)\n"
     ]
    }
   ],
   "source": [
    "# For each soundscape\n",
    "for n in range(n_soundscapes):\n",
    "\n",
    "    # Create a Scaper instance\n",
    "    sc = scaper.Scaper(duration, fg_folder, bg_folder, random_state=seed)\n",
    "    sc.protected_labels = []\n",
    "    sc.ref_db = ref_db\n",
    "\n",
    "    # Add background\n",
    "    sc.add_background(\n",
    "        label=('const', 'audio'),\n",
    "        source_file=('choose', []),\n",
    "        source_time=('const', 0))\n",
    "\n",
    "    # Add random number of foreground events\n",
    "    num_events = np.random.randint(min_events, max_events+1)\n",
    "    \n",
    "    for _ in range(num_events):\n",
    "        sc.add_event(\n",
    "            label=('choose', []),  \n",
    "            source_file=('choose', []),  \n",
    "            source_time=('const', 0),\n",
    "            event_time=('uniform', 0, duration - max_event_duration),\n",
    "            event_duration=('const', max_event_duration), \n",
    "            snr=('uniform', fg_snr_low, fg_snr_high),  \n",
    "            pitch_shift=None,\n",
    "            time_stretch=None)    \n",
    "            \n",
    "    # mkdir for this sample\n",
    "    os.mkdir(os.path.join(cwd, out_folder, str(n)))\n",
    "    \n",
    "    # Generate the .jams file\n",
    "    audio_file = os.path.join(out_folder, str(n), f'mixture.wav')\n",
    "    jams_file = os.path.join(out_folder, str(n), f'mixture.jams')\n",
    "    txt_file = os.path.join(out_folder, str(n), f'mixture.txt')\n",
    "    \n",
    "    sc.generate(audio_file, jams_file, allow_repeated_label=allow_repeated_label, allow_repeated_source=allow_repeated_source,\n",
    "                reverb=0, disable_sox_warnings=True, no_audio=no_audio, txt_path=txt_file)\n",
    "    \n",
    "    # optional: create a csv version of the txt file\n",
    "    df = pd.read_csv(os.path.join(out_folder, str(n), 'mixture.txt'), sep='\\t', header=None)\n",
    "    df.columns = ['start', 'end', 'label']  # the expected columns\n",
    "    \n",
    "    df.to_csv(os.path.join(out_folder, str(n), 'gt_events.csv'), index=False, header=True, sep='\\t')"
   ]
  },
  {
   "cell_type": "code",
   "execution_count": null,
   "id": "f844ce54-453b-48df-96e6-4da5a5217a5b",
   "metadata": {},
   "outputs": [],
   "source": []
  }
 ],
 "metadata": {
  "kernelspec": {
   "display_name": "Python 3",
   "language": "python",
   "name": "python3"
  },
  "language_info": {
   "codemirror_mode": {
    "name": "ipython",
    "version": 3
   },
   "file_extension": ".py",
   "mimetype": "text/x-python",
   "name": "python",
   "nbconvert_exporter": "python",
   "pygments_lexer": "ipython3",
   "version": "3.6.5"
  }
 },
 "nbformat": 4,
 "nbformat_minor": 5
}
