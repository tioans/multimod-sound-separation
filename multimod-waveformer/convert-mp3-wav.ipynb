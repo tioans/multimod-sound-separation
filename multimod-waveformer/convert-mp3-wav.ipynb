{
 "cells": [
  {
   "cell_type": "code",
   "execution_count": 4,
   "id": "c29d4cb9-a218-4c53-86c2-3514582af1a5",
   "metadata": {},
   "outputs": [],
   "source": [
    "import os\n",
    "\n",
    "from pydub import AudioSegment"
   ]
  },
  {
   "cell_type": "markdown",
   "id": "d35ae5f3-bc64-4b37-80c1-754e1eec6498",
   "metadata": {},
   "source": [
    "## Convert mp3 files to wav"
   ]
  },
  {
   "cell_type": "code",
   "execution_count": 5,
   "id": "6ff99b1e-6a30-4520-b1fe-f27f58f0a2d7",
   "metadata": {},
   "outputs": [],
   "source": [
    "def convert_mp3_to_wav(mp3_path, wav_path):\n",
    "    audio = AudioSegment.from_mp3(mp3_path)\n",
    "    audio.export(wav_path, format='wav')"
   ]
  },
  {
   "cell_type": "code",
   "execution_count": 6,
   "id": "bff532bf-798d-47fd-8724-269d8696d696",
   "metadata": {},
   "outputs": [],
   "source": [
    "# define the directory that contains the mp3 files\n",
    "input_dir = os.path.join('data', 'mozilla-cv', 'cv-13-selected', 'clips')\n",
    "output_dir = os.path.join('data', 'cv-13-mini')\n",
    "\n",
    "# make sure the output directory exists\n",
    "os.makedirs(output_dir, exist_ok=True)\n",
    "\n",
    "# iterate over all files in the directory\n",
    "for filename in os.listdir(input_dir):\n",
    "    \n",
    "    # check if the file is an mp3\n",
    "    if filename.endswith('.mp3'):\n",
    "        mp3_path = os.path.join(input_dir, filename)\n",
    "        wav_filename = os.path.splitext(filename)[0] + '.wav'  # replace .mp3 with .wav\n",
    "        wav_path = os.path.join(output_dir, wav_filename)\n",
    "        \n",
    "        convert_mp3_to_wav(mp3_path, wav_path)  # run the conversion"
   ]
  }
 ],
 "metadata": {
  "kernelspec": {
   "display_name": "waveformer",
   "language": "python",
   "name": "waveformer"
  },
  "language_info": {
   "codemirror_mode": {
    "name": "ipython",
    "version": 3
   },
   "file_extension": ".py",
   "mimetype": "text/x-python",
   "name": "python",
   "nbconvert_exporter": "python",
   "pygments_lexer": "ipython3",
   "version": "3.8.16"
  }
 },
 "nbformat": 4,
 "nbformat_minor": 5
}
