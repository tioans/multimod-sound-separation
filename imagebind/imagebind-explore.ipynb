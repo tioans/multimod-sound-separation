{
 "cells": [
  {
   "cell_type": "code",
   "execution_count": 5,
   "id": "5bc68c47-30dc-4c24-a1c1-bab099e1cd38",
   "metadata": {},
   "outputs": [
    {
     "name": "stderr",
     "output_type": "stream",
     "text": [
      "/home/iosz/.conda/envs/waveformer/lib/python3.8/site-packages/torchvision/transforms/functional_tensor.py:5: UserWarning: The torchvision.transforms.functional_tensor module is deprecated in 0.15 and will be **removed in 0.17**. Please don't rely on it. You probably just need to use APIs in torchvision.transforms.functional or in torchvision.transforms.v2.functional.\n",
      "  warnings.warn(\n",
      "/home/iosz/.conda/envs/waveformer/lib/python3.8/site-packages/torchvision/transforms/_functional_video.py:6: UserWarning: The 'torchvision.transforms._functional_video' module is deprecated since 0.12 and will be removed in the future. Please use the 'torchvision.transforms.functional' module instead.\n",
      "  warnings.warn(\n",
      "/home/iosz/.conda/envs/waveformer/lib/python3.8/site-packages/torchvision/transforms/_transforms_video.py:22: UserWarning: The 'torchvision.transforms._transforms_video' module is deprecated since 0.12 and will be removed in the future. Please use the 'torchvision.transforms' module instead.\n",
      "  warnings.warn(\n"
     ]
    }
   ],
   "source": [
    "import data\n",
    "import torch\n",
    "from models import imagebind_model\n",
    "from models.imagebind_model import ModalityType"
   ]
  },
  {
   "cell_type": "code",
   "execution_count": 26,
   "id": "ace7a51a-c8c4-4cf5-b3fd-40cb27e8177c",
   "metadata": {},
   "outputs": [],
   "source": [
    "text_list=[\"A dog\", \"A car\", \"A bird\"]\n",
    "image_paths=[\".assets/dog_image.jpg\", \".assets/car_image.jpg\", \".assets/bird_image.jpg\"]\n",
    "audio_paths=[\".assets/dog_audio.wav\", \".assets/car_audio.wav\", \".assets/bird_audio.wav\"]"
   ]
  },
  {
   "cell_type": "code",
   "execution_count": 34,
   "id": "22763dbd-672d-4c0e-b957-3aafde062361",
   "metadata": {
    "tags": []
   },
   "outputs": [],
   "source": [
    "device = \"cuda:0\" if torch.cuda.is_available() else \"cpu\"\n",
    "\n",
    "# Instantiate model\n",
    "model = imagebind_model.imagebind_huge(pretrained=True)\n",
    "model.eval()\n",
    "model.to(device)\n",
    "\n",
    "# Load data\n",
    "inputs = {\n",
    "    ModalityType.TEXT: data.load_and_transform_text(text_list, device),\n",
    "    ModalityType.VISION: data.load_and_transform_vision_data(image_paths, device),\n",
    "    ModalityType.AUDIO: data.load_and_transform_audio_data(audio_paths, device),\n",
    "}\n",
    "\n",
    "with torch.no_grad():\n",
    "    embeddings = model(inputs)\n",
    "\n",
    "# print(\n",
    "#     \"Vision x Text: \",\n",
    "#     torch.softmax(embeddings[ModalityType.VISION] @ embeddings[ModalityType.TEXT].T, dim=-1),\n",
    "# )\n",
    "# print(\n",
    "#     \"Audio x Text: \",\n",
    "#     torch.softmax(embeddings[ModalityType.AUDIO] @ embeddings[ModalityType.TEXT].T, dim=-1),\n",
    "# )\n",
    "# print(\n",
    "#     \"Vision x Audio: \",\n",
    "#     torch.softmax(embeddings[ModalityType.VISION] @ embeddings[ModalityType.AUDIO].T, dim=-1),\n",
    "# )"
   ]
  },
  {
   "cell_type": "code",
   "execution_count": 33,
   "id": "7233dedd-1d94-4c4c-9112-5ed59a781db5",
   "metadata": {},
   "outputs": [
    {
     "data": {
      "text/plain": [
       "tensor([[ 0.2054, -5.2253, -2.9712,  ...,  3.0710, -4.6814, -0.9082],\n",
       "        [-0.4342, -0.9050, -4.2879,  ...,  3.6109, -3.5757, -1.1599],\n",
       "        [-1.3476, -1.5732, -0.7386,  ...,  3.0858, -2.6202,  0.5023]],\n",
       "       device='cuda:0')"
      ]
     },
     "execution_count": 33,
     "metadata": {},
     "output_type": "execute_result"
    }
   ],
   "source": [
    "emb_text = embeddings[ModalityType.TEXT]"
   ]
  },
  {
   "cell_type": "code",
   "execution_count": null,
   "id": "073fd5a3-d5e1-4dc7-a4ac-f9b4f17aa832",
   "metadata": {},
   "outputs": [],
   "source": [
    "embeddings[ModalityType.TEXT]"
   ]
  }
 ],
 "metadata": {
  "kernelspec": {
   "display_name": "waveformer",
   "language": "python",
   "name": "waveformer"
  },
  "language_info": {
   "codemirror_mode": {
    "name": "ipython",
    "version": 3
   },
   "file_extension": ".py",
   "mimetype": "text/x-python",
   "name": "python",
   "nbconvert_exporter": "python",
   "pygments_lexer": "ipython3",
   "version": "3.8.16"
  }
 },
 "nbformat": 4,
 "nbformat_minor": 5
}
